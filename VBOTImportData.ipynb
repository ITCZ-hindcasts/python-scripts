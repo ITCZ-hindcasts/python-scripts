{
 "cells": [
  {
   "cell_type": "code",
   "execution_count": 1,
   "metadata": {},
   "outputs": [],
   "source": [
    "import numpy as np\n",
    "from netCDF4 import Dataset # Network Common Data Form"
   ]
  },
  {
   "cell_type": "code",
   "execution_count": 2,
   "metadata": {},
   "outputs": [],
   "source": [
    "# ************************************************************************************************\n",
    "# *************************** USER INPUTS ARE REQUIRED IN THIS CELL ******************************\n",
    "# ************************************************************************************************\n",
    "\n",
    "#### Write in the directory path to the CAM hindcast data files below\n",
    "pathToFiles    = \"/lss/research/agon-lab/CAM_hindcasts/tratl_cam5.3_ne30_rneale.globe/\"\n",
    "\n",
    "#### Write in the directory path to the observation data files below\n",
    "pathToObsFiles = \"/lss/research/agon-lab/ERA5_ITCZ/v10/\"\n",
    "\n",
    "\n",
    "# ************************************************************************************************"
   ]
  },
  {
   "cell_type": "code",
   "execution_count": 3,
   "metadata": {},
   "outputs": [],
   "source": [
    "rootgrpDay01 = Dataset(pathToFiles+\"tratl_cam5.3_ne30_rneale.globe.fcast.day01.VBOT.nc\", 'r', format='NETCDF4')\n",
    "rootgrpDay02 = Dataset(pathToFiles+\"tratl_cam5.3_ne30_rneale.globe.fcast.day02.VBOT.nc\", 'r', format='NETCDF4')\n",
    "rootgrpDay03 = Dataset(pathToFiles+\"tratl_cam5.3_ne30_rneale.globe.fcast.day03.VBOT.nc\", 'r', format='NETCDF4')\n",
    "rootgrpDay04 = Dataset(pathToFiles+\"tratl_cam5.3_ne30_rneale.globe.fcast.day04.VBOT.nc\", 'r', format='NETCDF4')\n",
    "rootgrpDay05 = Dataset(pathToFiles+\"tratl_cam5.3_ne30_rneale.globe.fcast.day05.VBOT.nc\", 'r', format='NETCDF4')\n",
    "rootgrpDay06 = Dataset(pathToFiles+\"tratl_cam5.3_ne30_rneale.globe.fcast.day06.VBOT.nc\", 'r', format='NETCDF4')\n",
    "rootgrpDay07 = Dataset(pathToFiles+\"tratl_cam5.3_ne30_rneale.globe.fcast.day07.VBOT.nc\", 'r', format='NETCDF4')\n",
    "rootgrpDay08 = Dataset(pathToFiles+\"tratl_cam5.3_ne30_rneale.globe.fcast.day08.VBOT.nc\", 'r', format='NETCDF4')\n",
    "rootgrpDay09 = Dataset(pathToFiles+\"tratl_cam5.3_ne30_rneale.globe.fcast.day09.VBOT.nc\", 'r', format='NETCDF4')\n",
    "rootgrpDay10 = Dataset(pathToFiles+\"tratl_cam5.3_ne30_rneale.globe.fcast.day10.VBOT.nc\", 'r', format='NETCDF4')\n",
    "rootgrpDay11 = Dataset(pathToFiles+\"tratl_cam5.3_ne30_rneale.globe.fcast.day11.VBOT.nc\", 'r', format='NETCDF4')\n",
    "rootgrpDay12 = Dataset(pathToFiles+\"tratl_cam5.3_ne30_rneale.globe.fcast.day12.VBOT.nc\", 'r', format='NETCDF4')\n",
    "rootgrpDay13 = Dataset(pathToFiles+\"tratl_cam5.3_ne30_rneale.globe.fcast.day13.VBOT.nc\", 'r', format='NETCDF4')\n",
    "rootgrpDay14 = Dataset(pathToFiles+\"tratl_cam5.3_ne30_rneale.globe.fcast.day14.VBOT.nc\", 'r', format='NETCDF4')\n",
    "rootgrpDay15 = Dataset(pathToFiles+\"tratl_cam5.3_ne30_rneale.globe.fcast.day15.VBOT.nc\", 'r', format='NETCDF4')\n",
    "rootgrpDay16 = Dataset(pathToFiles+\"tratl_cam5.3_ne30_rneale.globe.fcast.day16.VBOT.nc\", 'r', format='NETCDF4')\n",
    "rootgrpDay17 = Dataset(pathToFiles+\"tratl_cam5.3_ne30_rneale.globe.fcast.day17.VBOT.nc\", 'r', format='NETCDF4')\n",
    "rootgrpDay18 = Dataset(pathToFiles+\"tratl_cam5.3_ne30_rneale.globe.fcast.day18.VBOT.nc\", 'r', format='NETCDF4')\n",
    "rootgrpDay19 = Dataset(pathToFiles+\"tratl_cam5.3_ne30_rneale.globe.fcast.day19.VBOT.nc\", 'r', format='NETCDF4')\n",
    "rootgrpDay20 = Dataset(pathToFiles+\"tratl_cam5.3_ne30_rneale.globe.fcast.day20.VBOT.nc\", 'r', format='NETCDF4')\n",
    "\n",
    "rootgrp_obs2009 = Dataset(pathToObsFiles+\"v10m_2009.nc\", 'r', format='NETCDF4')\n",
    "rootgrp_obs2010 = Dataset(pathToObsFiles+\"v10m_2010.nc\", 'r', format='NETCDF4')"
   ]
  },
  {
   "cell_type": "code",
   "execution_count": 4,
   "metadata": {},
   "outputs": [],
   "source": [
    "# Initialize a matrix that will contain all wind data for each hindcast day (20 days total). float32 initializes the zeros in single precision\n",
    "vbotDayXX = np.zeros((20+1, len(rootgrpDay01.variables['V'][:]), len(rootgrpDay01.variables['V'][:][0]), len(rootgrpDay01.variables['V'][:][0][0]) ),dtype=np.float32)\n",
    "timeDayXX = np.zeros((20+1,len(rootgrpDay01.variables['time'][:])))\n",
    "\n",
    "# Note that the zero index is intentionally left blank.\n",
    "# This is to align the indexes with the day number\n",
    "# e.g. the Day01 hindcast is accessed with an index of 1\n",
    "# The +1 above is what accounts for this\n",
    "\n",
    "vbotDayXX[1]  = rootgrpDay01.variables['V'][:]\n",
    "vbotDayXX[2]  = rootgrpDay02.variables['V'][:]\n",
    "vbotDayXX[3]  = rootgrpDay03.variables['V'][:]\n",
    "vbotDayXX[4]  = rootgrpDay04.variables['V'][:]\n",
    "vbotDayXX[5]  = rootgrpDay05.variables['V'][:]\n",
    "vbotDayXX[6]  = rootgrpDay06.variables['V'][:]\n",
    "vbotDayXX[7]  = rootgrpDay07.variables['V'][:]\n",
    "vbotDayXX[8]  = rootgrpDay08.variables['V'][:]\n",
    "vbotDayXX[9]  = rootgrpDay09.variables['V'][:]\n",
    "vbotDayXX[10]  = rootgrpDay10.variables['V'][:]\n",
    "vbotDayXX[11]  = rootgrpDay11.variables['V'][:]\n",
    "vbotDayXX[12]  = rootgrpDay12.variables['V'][:]\n",
    "vbotDayXX[13]  = rootgrpDay13.variables['V'][:]\n",
    "vbotDayXX[14]  = rootgrpDay14.variables['V'][:]\n",
    "vbotDayXX[15]  = rootgrpDay15.variables['V'][:]\n",
    "vbotDayXX[16]  = rootgrpDay16.variables['V'][:]\n",
    "vbotDayXX[17]  = rootgrpDay17.variables['V'][:]\n",
    "vbotDayXX[18]  = rootgrpDay18.variables['V'][:]\n",
    "vbotDayXX[19]  = rootgrpDay19.variables['V'][:]\n",
    "vbotDayXX[20]  = rootgrpDay20.variables['V'][:]\n",
    "\n",
    "timeDayXX[1]  = rootgrpDay01.variables['time'][:]\n",
    "timeDayXX[2]  = rootgrpDay02.variables['time'][:]\n",
    "timeDayXX[3]  = rootgrpDay03.variables['time'][:]\n",
    "timeDayXX[4]  = rootgrpDay04.variables['time'][:]\n",
    "timeDayXX[5]  = rootgrpDay05.variables['time'][:]\n",
    "timeDayXX[6]  = rootgrpDay06.variables['time'][:]\n",
    "timeDayXX[7]  = rootgrpDay07.variables['time'][:]\n",
    "timeDayXX[8]  = rootgrpDay08.variables['time'][:]\n",
    "timeDayXX[9]  = rootgrpDay09.variables['time'][:]\n",
    "timeDayXX[10]  = rootgrpDay10.variables['time'][:]\n",
    "timeDayXX[11]  = rootgrpDay11.variables['time'][:]\n",
    "timeDayXX[12]  = rootgrpDay12.variables['time'][:]\n",
    "timeDayXX[13]  = rootgrpDay13.variables['time'][:]\n",
    "timeDayXX[14]  = rootgrpDay14.variables['time'][:]\n",
    "timeDayXX[15]  = rootgrpDay15.variables['time'][:]\n",
    "timeDayXX[16]  = rootgrpDay16.variables['time'][:]\n",
    "timeDayXX[17]  = rootgrpDay17.variables['time'][:]\n",
    "timeDayXX[18]  = rootgrpDay18.variables['time'][:]\n",
    "timeDayXX[19]  = rootgrpDay19.variables['time'][:]\n",
    "timeDayXX[20]  = rootgrpDay20.variables['time'][:]\n",
    "\n",
    "\n",
    "lat = rootgrpDay01.variables['lat'][:] \n",
    "lon = rootgrpDay01.variables['lon'][:]\n",
    "lat_obs = rootgrp_obs2009.variables['latitude'][:]\n",
    "lon_obs = rootgrp_obs2010.variables['longitude'][:]"
   ]
  },
  {
   "cell_type": "code",
   "execution_count": 5,
   "metadata": {},
   "outputs": [],
   "source": [
    "# Average the 3-hourly hindcast data to obtain daily values\n",
    "\n",
    "# Initialize an array of zeros with room for 20 days of hindcasts (starting index of 1),\n",
    "vbotDayXXDailyAvg = np.zeros((20+1, int(len(rootgrpDay01.variables['V'][:])/8), len(rootgrpDay01.variables['V'][:][0]), len(rootgrpDay01.variables['V'][:][0][0]) ))\n",
    "timeDayXXDailyAvg = np.zeros((20+1, 152))\n",
    "\n",
    "# Outer loop iterates through each hindcast day (1->20). Note the starting index of 1 to match up with Day01\n",
    "for ii in range(1,len(vbotDayXX)):\n",
    "    \n",
    "    # Initialize counting variable to properly index the time and vbot data\n",
    "    kk = 0\n",
    "    \n",
    "    # Inner loop iterates for each day in hindcast range (152 days) and averages the 3hrly data for each day as well as creates a new time dataset\n",
    "    for jj in range(0,len(timeDayXX[1]),8):\n",
    "        \n",
    "        # Average the 3 hourly data, assign it to each day [kk] in the current hindcast [ii]\n",
    "        vbotDayXXDailyAvg[ii][kk] = np.mean(vbotDayXX[ii][jj : jj+8],axis=0)\n",
    "        \n",
    "        # Create a new time dataset that has the same temporal grid as the PRECT data (daily, days since 2009-09-01)\n",
    "        timeDayXXDailyAvg[ii][kk] = 31+(ii-1)+kk\n",
    "        \n",
    "        kk = kk + 1"
   ]
  },
  {
   "cell_type": "code",
   "execution_count": 6,
   "metadata": {},
   "outputs": [],
   "source": [
    "# Average the 6-hourly observation data to obtain daily values. Combine two years of observation data into a single array.\n",
    "\n",
    "# Initialize an array that will receive the daily vbot_obs average\n",
    "vbot_obsDailyAvg = np.zeros((int(1460/4)*2, 721, 1440 ), dtype=np.int16) # rootgrp_obs2009.variables['v10'][:].shape = (1460, 721, 1440)\n",
    "time_obsDailyAvgRaw = np.zeros((365*2))\n",
    "\n",
    "# The loop iterates for each day in obs range (365 days) and averages the 6hrly data for each day as well as creates a new time dataset\n",
    "# ii is the indexing variable for the daily average\n",
    "for ii in range(int(1460/4)*2): # 1460/4 = 365\n",
    "    if ii < 365: # average 2009 data\n",
    "        # Average the 6 hourly data [ii*4], assign it to each day [ii]\n",
    "        vbot_obsDailyAvg[ii] = np.mean(rootgrp_obs2009.variables['v10'][ii*4:(ii+1)*4],axis=0)\n",
    "        # Converting the value to int removes the decimal\n",
    "        time_obsDailyAvgRaw[ii] = int(np.mean(rootgrp_obs2009.variables['time'][ii*4:(ii+1)*4])/24)\n",
    "        \n",
    "    else:\n",
    "        # Average the 6 hourly data (the index [subtracted by 365 so it pulls from beginning of the new year] which jumps by days of 4), assign it to each day [ii]\n",
    "        vbot_obsDailyAvg[ii] = np.mean(rootgrp_obs2010.variables['v10'][(ii-365)*4:(ii+1-365)*4],axis=0)\n",
    "        # Converting the value to int removes the decimal\n",
    "        time_obsDailyAvgRaw[ii] = int(np.mean(rootgrp_obs2010.variables['time'][(ii-365)*4:(ii+1-365)*4])/24)\n",
    "\n",
    "# Align the time scale so that the days refer to 2009-09-01. This is a standard for these datasets\n",
    "time_obsDailyAvg = time_obsDailyAvgRaw-40055"
   ]
  },
  {
   "cell_type": "code",
   "execution_count": 7,
   "metadata": {},
   "outputs": [],
   "source": [
    "# Reverse the order of the latitude so that it ranges from -90 to +90 like the other datasets\n",
    "\n",
    "lat_obs = lat_obs[::-1]\n",
    "vbot_obsDailyAvg = vbot_obsDailyAvg[:, ::-1, :] "
   ]
  },
  {
   "cell_type": "code",
   "execution_count": 8,
   "metadata": {},
   "outputs": [
    {
     "data": {
      "text/plain": [
       "array([ 35.,  36.,  37.,  38.,  39.,  40.,  41.,  42.,  43.,  44.,  45.,\n",
       "        46.,  47.,  48.,  49.,  50.,  51.,  52.,  53.,  54.,  55.,  56.,\n",
       "        57.,  58.,  59.,  60.,  61.,  62.,  63.,  64.,  65.,  66.,  67.,\n",
       "        68.,  69.,  70.,  71.,  72.,  73.,  74.,  75.,  76.,  77.,  78.,\n",
       "        79.,  80.,  81.,  82.,  83.,  84.,  85.,  86.,  87.,  88.,  89.,\n",
       "        90.,  91.,  92.,  93.,  94.,  95.,  96.,  97.,  98.,  99., 100.,\n",
       "       101., 102., 103., 104., 105., 106., 107., 108., 109., 110., 111.,\n",
       "       112., 113., 114., 115., 116., 117., 118., 119., 120., 121., 122.,\n",
       "       123., 124., 125., 126., 127., 128., 129., 130., 131., 132., 133.,\n",
       "       134., 135., 136., 137., 138., 139., 140., 141., 142., 143., 144.,\n",
       "       145., 146., 147., 148., 149., 150., 151., 152., 153., 154., 155.,\n",
       "       156., 157., 158., 159., 160., 161., 162., 163., 164., 165., 166.,\n",
       "       167., 168., 169., 170., 171., 172., 173., 174., 175., 176., 177.,\n",
       "       178., 179., 180., 181., 182., 183., 184., 185., 186.])"
      ]
     },
     "execution_count": 8,
     "metadata": {},
     "output_type": "execute_result"
    }
   ],
   "source": [
    "timeDayXXDailyAvg[5]"
   ]
  }
 ],
 "metadata": {
  "kernelspec": {
   "display_name": "Python 3",
   "language": "python",
   "name": "python3"
  },
  "language_info": {
   "codemirror_mode": {
    "name": "ipython",
    "version": 3
   },
   "file_extension": ".py",
   "mimetype": "text/x-python",
   "name": "python",
   "nbconvert_exporter": "python",
   "pygments_lexer": "ipython3",
   "version": "3.8.2"
  }
 },
 "nbformat": 4,
 "nbformat_minor": 4
}
