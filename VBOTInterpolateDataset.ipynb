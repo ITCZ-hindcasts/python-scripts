{
 "cells": [
  {
   "cell_type": "code",
   "execution_count": null,
   "metadata": {},
   "outputs": [],
   "source": [
    "import numpy as np\n",
    "import matplotlib.pyplot as plt\n",
    "from netCDF4 import Dataset # Network Common Data Form"
   ]
  },
  {
   "cell_type": "code",
   "execution_count": null,
   "metadata": {},
   "outputs": [],
   "source": [
    "def VBOTInterpolateDataset(vbot_lonavg,vbot_lonavg_obs,lat_plt,lat_plt_obs,lats,latn):\n",
    "    \n",
    "    # Initialize the interpolated data array depending on the size of the observation vbot dataset\n",
    "    vbot_lonavg_interp = np.zeros(vbot_lonavg_obs.shape)\n",
    "\n",
    "    ### Now, interpolate the dataset\n",
    "\n",
    "    # Goal: create a new dataset of vbot values interpolated from the hindcast vbotitation that have the same\n",
    "    # latitude values as in the obs dataset (0.25 degree resolution)\n",
    "    for jj in range(len(lat_plt_obs)): # Iterate for the number of points in the lat_plt_obs dataset\n",
    "\n",
    "        # Find the indexes of the hindcast vbot data that are closes to the current observation point being analyzed\n",
    "        ind1_vbot_lonavg = np.argsort( np.abs(lat_plt-lat_plt_obs[jj]) )[0]\n",
    "        ind2_vbot_lonavg = np.argsort( np.abs(lat_plt-lat_plt_obs[jj]) )[1]\n",
    "\n",
    "        # Set initial conditions of interpolation equation\n",
    "        y1 = vbot_lonavg[ind1_vbot_lonavg]\n",
    "        y2 = vbot_lonavg[ind2_vbot_lonavg]\n",
    "        x1 = lat_plt[ind1_vbot_lonavg]\n",
    "        x2 = lat_plt[ind2_vbot_lonavg]\n",
    "        x = lat_plt_obs[jj]\n",
    "\n",
    "        # Calculate slope between two hindcast points\n",
    "        dydx = (y2 - y1)/(x2 - x1)\n",
    "\n",
    "        # Calculate the interpolated hindcast vbotitation at the latitude specified by the observation dataset\n",
    "        vbot_lonavg_interp[jj] = y1 + dydx*(x - x1)\n",
    "\n",
    "    # With values updated, cut down latitude range to the user specified size\n",
    "    # Note that the code only finds the indexes for the observation latitude data this is because the new, interpolated Hcast vbot dataset is plotted over \n",
    "    # the observation latitude values\n",
    "    ids_obs = np.abs(lat_plt_obs-lats).argmin()\n",
    "    idn_obs = np.abs(lat_plt_obs-latn).argmin()\n",
    "    lat_plt_obs = lat_plt_obs[ids_obs:idn_obs]\n",
    "\n",
    "    # The final interpolated vbotitation hindcast data and the observation data at the correct size for a given dayOfTheSeason+kk\n",
    "    vbot_lonavg_interp = vbot_lonavg_interp[ids_obs:idn_obs]\n",
    "    vbot_lonavg_obs = vbot_lonavg_obs[ids_obs:idn_obs]\n",
    "\n",
    "    return vbot_lonavg_interp, vbot_lonavg_obs, lat_plt_obs"
   ]
  }
 ],
 "metadata": {
  "kernelspec": {
   "display_name": "Python 3",
   "language": "python",
   "name": "python3"
  },
  "language_info": {
   "codemirror_mode": {
    "name": "ipython",
    "version": 3
   },
   "file_extension": ".py",
   "mimetype": "text/x-python",
   "name": "python",
   "nbconvert_exporter": "python",
   "pygments_lexer": "ipython3",
   "version": "3.8.2"
  }
 },
 "nbformat": 4,
 "nbformat_minor": 4
}
