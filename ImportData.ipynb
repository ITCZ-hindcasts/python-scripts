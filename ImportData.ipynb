{
 "cells": [
  {
   "cell_type": "code",
   "execution_count": 1,
   "metadata": {},
   "outputs": [],
   "source": [
    "import numpy as np\n",
    "from netCDF4 import Dataset # Network Common Data Form"
   ]
  },
  {
   "cell_type": "code",
   "execution_count": 2,
   "metadata": {},
   "outputs": [],
   "source": [
    "# ************************************************************************************************\n",
    "# *************************** USER INPUTS ARE REQUIRED IN THIS CELL ******************************\n",
    "# ************************************************************************************************\n",
    "\n",
    "#### Write in the directory path to the CAM and observation data files below\n",
    "pathToFiles = \"/home/jlarson1/CAM_data/\"\n",
    "\n",
    "# ************************************************************************************************"
   ]
  },
  {
   "cell_type": "code",
   "execution_count": 3,
   "metadata": {},
   "outputs": [],
   "source": [
    "rootgrpDay01 = Dataset(pathToFiles+\"tratl_cam5.3_ne30_rneale.globe.fcast.day01.PRECT.nc\", 'r+', format='NETCDF4')\n",
    "rootgrpDay02 = Dataset(pathToFiles+\"tratl_cam5.3_ne30_rneale.globe.fcast.day02.PRECT.nc\", 'r+', format='NETCDF4')\n",
    "rootgrpDay03 = Dataset(pathToFiles+\"tratl_cam5.3_ne30_rneale.globe.fcast.day03.PRECT.nc\", 'r+', format='NETCDF4')\n",
    "rootgrpDay04 = Dataset(pathToFiles+\"tratl_cam5.3_ne30_rneale.globe.fcast.day04.PRECT.nc\", 'r+', format='NETCDF4')\n",
    "rootgrpDay05 = Dataset(pathToFiles+\"tratl_cam5.3_ne30_rneale.globe.fcast.day05.PRECT.nc\", 'r+', format='NETCDF4')\n",
    "rootgrpDay06 = Dataset(pathToFiles+\"tratl_cam5.3_ne30_rneale.globe.fcast.day06.PRECT.nc\", 'r+', format='NETCDF4')\n",
    "rootgrpDay07 = Dataset(pathToFiles+\"tratl_cam5.3_ne30_rneale.globe.fcast.day07.PRECT.nc\", 'r+', format='NETCDF4')\n",
    "rootgrpDay08 = Dataset(pathToFiles+\"tratl_cam5.3_ne30_rneale.globe.fcast.day08.PRECT.nc\", 'r+', format='NETCDF4')\n",
    "rootgrpDay09 = Dataset(pathToFiles+\"tratl_cam5.3_ne30_rneale.globe.fcast.day09.PRECT.nc\", 'r+', format='NETCDF4')\n",
    "rootgrpDay10 = Dataset(pathToFiles+\"tratl_cam5.3_ne30_rneale.globe.fcast.day10.PRECT.nc\", 'r+', format='NETCDF4')\n",
    "rootgrpDay11 = Dataset(pathToFiles+\"tratl_cam5.3_ne30_rneale.globe.fcast.day11.PRECT.nc\", 'r+', format='NETCDF4')\n",
    "rootgrpDay12 = Dataset(pathToFiles+\"tratl_cam5.3_ne30_rneale.globe.fcast.day12.PRECT.nc\", 'r+', format='NETCDF4')\n",
    "rootgrpDay13 = Dataset(pathToFiles+\"tratl_cam5.3_ne30_rneale.globe.fcast.day13.PRECT.nc\", 'r+', format='NETCDF4')\n",
    "rootgrpDay14 = Dataset(pathToFiles+\"tratl_cam5.3_ne30_rneale.globe.fcast.day14.PRECT.nc\", 'r+', format='NETCDF4')\n",
    "rootgrpDay15 = Dataset(pathToFiles+\"tratl_cam5.3_ne30_rneale.globe.fcast.day15.PRECT.nc\", 'r+', format='NETCDF4')\n",
    "rootgrpDay16 = Dataset(pathToFiles+\"tratl_cam5.3_ne30_rneale.globe.fcast.day16.PRECT.nc\", 'r+', format='NETCDF4')\n",
    "rootgrpDay17 = Dataset(pathToFiles+\"tratl_cam5.3_ne30_rneale.globe.fcast.day17.PRECT.nc\", 'r+', format='NETCDF4')\n",
    "rootgrpDay18 = Dataset(pathToFiles+\"tratl_cam5.3_ne30_rneale.globe.fcast.day18.PRECT.nc\", 'r+', format='NETCDF4')\n",
    "rootgrpDay19 = Dataset(pathToFiles+\"tratl_cam5.3_ne30_rneale.globe.fcast.day19.PRECT.nc\", 'r+', format='NETCDF4')\n",
    "rootgrpDay20 = Dataset(pathToFiles+\"tratl_cam5.3_ne30_rneale.globe.fcast.day20.PRECT.nc\", 'r+', format='NETCDF4')\n",
    "\n",
    "rootgrp_obs = Dataset(pathToFiles+\"pr_daily_2009-2010.nc\", 'r', format='NETCDF4')"
   ]
  },
  {
   "cell_type": "code",
   "execution_count": 4,
   "metadata": {},
   "outputs": [],
   "source": [
    "#### Enter the number of days of hindcasts that are in the data folder \n",
    "numHcast = 20\n",
    "\n",
    "precipDayXX = np.zeros((numHcast+1,len(rootgrpDay01.variables['PRECT'][:]),len(rootgrpDay01.variables['PRECT'][:][0]),len(rootgrpDay01.variables['PRECT'][:][0][0])))\n",
    "timeDayXX = np.zeros((numHcast+1,len(rootgrpDay01.variables['time'][:])))\n",
    "\n",
    "# Note that the zero index is intentionally left as zeros.\n",
    "# This is to align the indexes with the day number\n",
    "# e.g. the Day01 hindcast is accessed with and index of 1\n",
    "# The +1 above is what accounts for this\n",
    "\n",
    "precipDayXX[1]  = rootgrpDay01.variables['PRECT'][:]\n",
    "precipDayXX[2]  = rootgrpDay02.variables['PRECT'][:]\n",
    "precipDayXX[3]  = rootgrpDay03.variables['PRECT'][:]\n",
    "precipDayXX[4]  = rootgrpDay04.variables['PRECT'][:]\n",
    "precipDayXX[5]  = rootgrpDay05.variables['PRECT'][:]\n",
    "precipDayXX[6]  = rootgrpDay06.variables['PRECT'][:]\n",
    "precipDayXX[7]  = rootgrpDay07.variables['PRECT'][:]\n",
    "precipDayXX[8]  = rootgrpDay08.variables['PRECT'][:]\n",
    "precipDayXX[9]  = rootgrpDay09.variables['PRECT'][:]\n",
    "precipDayXX[10] = rootgrpDay10.variables['PRECT'][:]\n",
    "precipDayXX[11] = rootgrpDay11.variables['PRECT'][:]\n",
    "precipDayXX[12] = rootgrpDay12.variables['PRECT'][:]\n",
    "precipDayXX[13] = rootgrpDay13.variables['PRECT'][:]\n",
    "precipDayXX[14] = rootgrpDay14.variables['PRECT'][:]\n",
    "precipDayXX[15] = rootgrpDay15.variables['PRECT'][:]\n",
    "precipDayXX[16] = rootgrpDay16.variables['PRECT'][:]\n",
    "precipDayXX[17] = rootgrpDay17.variables['PRECT'][:]\n",
    "precipDayXX[18] = rootgrpDay18.variables['PRECT'][:]\n",
    "precipDayXX[19] = rootgrpDay19.variables['PRECT'][:]\n",
    "precipDayXX[20] = rootgrpDay20.variables['PRECT'][:]\n",
    "\n",
    "timeDayXX[1]  = rootgrpDay01.variables['time'][:]\n",
    "timeDayXX[2]  = rootgrpDay02.variables['time'][:]\n",
    "timeDayXX[3]  = rootgrpDay03.variables['time'][:]\n",
    "timeDayXX[4]  = rootgrpDay04.variables['time'][:]\n",
    "timeDayXX[5]  = rootgrpDay05.variables['time'][:]\n",
    "timeDayXX[6]  = rootgrpDay06.variables['time'][:]\n",
    "timeDayXX[7]  = rootgrpDay07.variables['time'][:]\n",
    "timeDayXX[8]  = rootgrpDay08.variables['time'][:]\n",
    "timeDayXX[9]  = rootgrpDay09.variables['time'][:]\n",
    "timeDayXX[10] = rootgrpDay10.variables['time'][:]\n",
    "timeDayXX[11] = rootgrpDay11.variables['time'][:]\n",
    "timeDayXX[12] = rootgrpDay12.variables['time'][:]\n",
    "timeDayXX[13] = rootgrpDay13.variables['time'][:]\n",
    "timeDayXX[14] = rootgrpDay14.variables['time'][:]\n",
    "timeDayXX[15] = rootgrpDay15.variables['time'][:]\n",
    "timeDayXX[16] = rootgrpDay16.variables['time'][:]\n",
    "timeDayXX[17] = rootgrpDay17.variables['time'][:]\n",
    "timeDayXX[18] = rootgrpDay18.variables['time'][:]\n",
    "timeDayXX[19] = rootgrpDay19.variables['time'][:]\n",
    "timeDayXX[20] = rootgrpDay20.variables['time'][:]\n",
    "\n",
    "lat = rootgrpDay01.variables['lat'][:]\n",
    "lon = rootgrpDay01.variables['lon'][:]"
   ]
  }
 ],
 "metadata": {
  "kernelspec": {
   "display_name": "Python 3",
   "language": "python",
   "name": "python3"
  },
  "language_info": {
   "codemirror_mode": {
    "name": "ipython",
    "version": 3
   },
   "file_extension": ".py",
   "mimetype": "text/x-python",
   "name": "python",
   "nbconvert_exporter": "python",
   "pygments_lexer": "ipython3",
   "version": "3.8.2"
  }
 },
 "nbformat": 4,
 "nbformat_minor": 4
}
