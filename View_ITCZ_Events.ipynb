{
 "cells": [
  {
   "cell_type": "code",
   "execution_count": 1,
   "metadata": {},
   "outputs": [],
   "source": [
    "import numpy as np\n",
    "import matplotlib.pyplot as plt\n",
    "from netCDF4 import Dataset # Network Common Data Form"
   ]
  },
  {
   "cell_type": "code",
   "execution_count": 2,
   "metadata": {},
   "outputs": [],
   "source": [
    "#### Enter the directory address below\n",
    "pathToFiles = \"/home/jlarson1/CAM_data/\"\n",
    "\n",
    "rootgrp = Dataset(pathToFiles+\"ITCZ_events_2010.nc\", 'r', format='NETCDF4')\n",
    "nd_eventRaw = rootgrp.variables['nd_event'][:]\n",
    "itcz_stateRaw = rootgrp.variables['itcz_state'][:]"
   ]
  },
  {
   "cell_type": "code",
   "execution_count": 3,
   "metadata": {},
   "outputs": [
    {
     "name": "stdout",
     "output_type": "stream",
     "text": [
      "Please note:\n",
      "\t1:dITCZ, 2:nITCZ, 3:sITCZ, 4:aITCZ, 5:eITCZ\n",
      "\tEvent duration has units of days\n",
      "\n",
      "Days s/ 01-01-2010:  0.0   |  Days s/ 09-01-2009:  122.0  |  ITCZ state:  2  |  Event duration:  2\n",
      "Days s/ 01-01-2010:  4.0   |  Days s/ 09-01-2009:  126.0  |  ITCZ state:  2  |  Event duration:  3\n",
      "Days s/ 01-01-2010:  7.0   |  Days s/ 09-01-2009:  129.0  |  ITCZ state:  1  |  Event duration:  2\n",
      "Days s/ 01-01-2010:  10.0   |  Days s/ 09-01-2009:  132.0  |  ITCZ state:  2  |  Event duration:  2\n",
      "Days s/ 01-01-2010:  14.0   |  Days s/ 09-01-2009:  136.0  |  ITCZ state:  2  |  Event duration:  2\n",
      "Days s/ 01-01-2010:  18.0   |  Days s/ 09-01-2009:  140.0  |  ITCZ state:  1  |  Event duration:  4\n",
      "Days s/ 01-01-2010:  24.0   |  Days s/ 09-01-2009:  146.0  |  ITCZ state:  2  |  Event duration:  4\n",
      "Days s/ 01-01-2010:  28.0   |  Days s/ 09-01-2009:  150.0  |  ITCZ state:  4  |  Event duration:  4\n",
      "Days s/ 01-01-2010:  33.0   |  Days s/ 09-01-2009:  155.0  |  ITCZ state:  4  |  Event duration:  4\n",
      "Days s/ 01-01-2010:  38.0   |  Days s/ 09-01-2009:  160.0  |  ITCZ state:  4  |  Event duration:  3\n",
      "Days s/ 01-01-2010:  42.0   |  Days s/ 09-01-2009:  164.0  |  ITCZ state:  4  |  Event duration:  2\n",
      "Days s/ 01-01-2010:  44.0   |  Days s/ 09-01-2009:  166.0  |  ITCZ state:  1  |  Event duration:  2\n",
      "Days s/ 01-01-2010:  46.0   |  Days s/ 09-01-2009:  168.0  |  ITCZ state:  2  |  Event duration:  2\n",
      "Days s/ 01-01-2010:  48.0   |  Days s/ 09-01-2009:  170.0  |  ITCZ state:  4  |  Event duration:  2\n",
      "Days s/ 01-01-2010:  50.0   |  Days s/ 09-01-2009:  172.0  |  ITCZ state:  1  |  Event duration:  3\n",
      "Days s/ 01-01-2010:  53.0   |  Days s/ 09-01-2009:  175.0  |  ITCZ state:  2  |  Event duration:  6\n",
      "Days s/ 01-01-2010:  61.0   |  Days s/ 09-01-2009:  183.0  |  ITCZ state:  1  |  Event duration:  2\n",
      "Days s/ 01-01-2010:  63.0   |  Days s/ 09-01-2009:  185.0  |  ITCZ state:  2  |  Event duration:  13\n",
      "Days s/ 01-01-2010:  76.0   |  Days s/ 09-01-2009:  198.0  |  ITCZ state:  1  |  Event duration:  3\n",
      "Days s/ 01-01-2010:  81.0   |  Days s/ 09-01-2009:  203.0  |  ITCZ state:  2  |  Event duration:  4\n",
      "Days s/ 01-01-2010:  85.0   |  Days s/ 09-01-2009:  207.0  |  ITCZ state:  1  |  Event duration:  2\n",
      "Days s/ 01-01-2010:  87.0   |  Days s/ 09-01-2009:  209.0  |  ITCZ state:  2  |  Event duration:  2\n",
      "Days s/ 01-01-2010:  89.0   |  Days s/ 09-01-2009:  211.0  |  ITCZ state:  1  |  Event duration:  7\n",
      "Days s/ 01-01-2010:  96.0   |  Days s/ 09-01-2009:  218.0  |  ITCZ state:  2  |  Event duration:  2\n",
      "Days s/ 01-01-2010:  99.0   |  Days s/ 09-01-2009:  221.0  |  ITCZ state:  2  |  Event duration:  12\n"
     ]
    }
   ],
   "source": [
    "timeRaw = rootgrp.variables['time'][:]\n",
    "time = timeRaw/24 - 40177 # 40,177 is the number of days between 1900-01-01 -> 2010-01-01\n",
    "timeAdjusted = time+122\n",
    "timeConstrained = timeAdjusted[0:17]\n",
    "\n",
    "print('Please note:\\n\\t1:dITCZ, 2:nITCZ, 3:sITCZ, 4:aITCZ, 5:eITCZ\\n\\tEvent duration has units of days\\n')\n",
    "for ii in range(len(time)):\n",
    "    print('Days s/ 01-01-2010: ',time[ii],'  |  Days s/ 09-01-2009: ',timeAdjusted[ii],' |  ITCZ state: ',itcz_stateRaw[ii],' |  Event duration: ',nd_eventRaw[ii])\n",
    "#print('\\n',timeConstrained)\n",
    "itcz_state = itcz_stateRaw[0:17]\n",
    "nd_event = nd_eventRaw[0:17]"
   ]
  },
  {
   "cell_type": "code",
   "execution_count": 4,
   "metadata": {},
   "outputs": [],
   "source": [
    "dITCZ=np.zeros(itcz_state.shape)\n",
    "nITCZ=np.zeros(itcz_state.shape)\n",
    "sITCZ=np.zeros(itcz_state.shape)\n",
    "aITCZ=np.zeros(itcz_state.shape)\n",
    "eITCZ=np.zeros(itcz_state.shape)\n",
    "\n",
    "class storeData:\n",
    "    def __init__(self, startday, ndevent, precip_lonavg,precip_lonavg_tot,precip_lonavg_obs,precip_lonavg_obs_tot,lat_plt,lat_plt_tot,lat_plt_obs,lat_plt_obs_tot):\n",
    "        self.startday = startday\n",
    "        self.ndevent = ndevent\n",
    "        self.precip_lonavg = precip_lonavg\n",
    "        self.precip_lonavg_tot = precip_lonavg_tot\n",
    "        self.precip_lonavg_obs = precip_lonavg_obs\n",
    "        self.precip_lonavg_obs_tot = precip_lonavg_obs_tot\n",
    "        self.lat_plt = lat_plt\n",
    "        self.lat_plt_tot = lat_plt_tot\n",
    "        self.lat_plt_obs = lat_plt_obs\n",
    "        self.lat_plt_obs_tot = lat_plt_obs_tot\n",
    "\n",
    "# Initialize all the properties of the object\n",
    "dITCZ= storeData(np.zeros(itcz_state.shape),np.zeros(itcz_state.shape),0,0,0,0,0,0,0,0)\n",
    "nITCZ= storeData(np.zeros(itcz_state.shape),np.zeros(itcz_state.shape),0,0,0,0,0,0,0,0)\n",
    "sITCZ= storeData(np.zeros(itcz_state.shape),np.zeros(itcz_state.shape),0,0,0,0,0,0,0,0)\n",
    "aITCZ= storeData(np.zeros(itcz_state.shape),np.zeros(itcz_state.shape),0,0,0,0,0,0,0,0)\n",
    "eITCZ= storeData(np.zeros(itcz_state.shape),np.zeros(itcz_state.shape),0,0,0,0,0,0,0,0)\n",
    "\n",
    "# Store the start days of events and their corresponding durations into \n",
    "# ...the properties of the ITCZ state objects\n",
    "for ii,day in enumerate(timeConstrained):\n",
    "    if(itcz_state[ii]==1):\n",
    "        dITCZ.startday[ii] = day\n",
    "        dITCZ.ndevent[ii] = nd_event[ii]\n",
    "    elif(itcz_state[ii]==2):\n",
    "        nITCZ.startday[ii] = day\n",
    "        nITCZ.ndevent[ii] = nd_event[ii]\n",
    "    elif(itcz_state[ii]==3):\n",
    "        sITCZ.startday[ii] = day\n",
    "        sITCZ.ndevent[ii] = nd_event[ii]\n",
    "    elif(itcz_state[ii]==4):\n",
    "        aITCZ.startday[ii] = day\n",
    "        aITCZ.ndevent[ii] = nd_event[ii]\n",
    "    elif(itcz_state[ii]==5):\n",
    "        eITCZ.startday[ii] = day\n",
    "        eITCZ.ndevent[ii] = nd_event[ii]\n",
    "    else:\n",
    "        print(\"Error\")"
   ]
  },
  {
   "cell_type": "code",
   "execution_count": null,
   "metadata": {},
   "outputs": [],
   "source": []
  }
 ],
 "metadata": {
  "kernelspec": {
   "display_name": "Python 3",
   "language": "python",
   "name": "python3"
  },
  "language_info": {
   "codemirror_mode": {
    "name": "ipython",
    "version": 3
   },
   "file_extension": ".py",
   "mimetype": "text/x-python",
   "name": "python",
   "nbconvert_exporter": "python",
   "pygments_lexer": "ipython3",
   "version": "3.8.2"
  }
 },
 "nbformat": 4,
 "nbformat_minor": 4
}
