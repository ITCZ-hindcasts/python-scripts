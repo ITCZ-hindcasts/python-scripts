{
 "cells": [
  {
   "cell_type": "code",
   "execution_count": 1,
   "metadata": {},
   "outputs": [],
   "source": [
    "import numpy as np\n",
    "import matplotlib.pyplot as plt\n",
    "from netCDF4 import Dataset # Network Common Data Form"
   ]
  },
  {
   "cell_type": "code",
   "execution_count": 2,
   "metadata": {},
   "outputs": [],
   "source": [
    "def VBOTAlignDatasets(time, lat, lon, data, time_obs, lat_obs, lon_obs, data_obs, userInputs):\n",
    "    # For this function to operate properly, the time stamps on the hindcast and obs data need to be in \n",
    "    ## the form of \"days since 2009-09-01\"\n",
    "    \n",
    "    dayOfTheSeason = userInputs[0]\n",
    "    lats           = userInputs[1]\n",
    "    latn           = userInputs[2]\n",
    "    lonw           = userInputs[3]\n",
    "    lone           = userInputs[4]\n",
    "\n",
    "    # Determine the index in the requested forecast for the desired day of the season \n",
    "    id_DayOfTheSeason = np.abs(time-dayOfTheSeason).argmin()\n",
    "\n",
    "    # Finds the index of the value (in the observation dataset) that is equal to the first element of the hindcast\n",
    "    id_time_begin = np.abs(time_obs-time[0]).argmin()\n",
    "    id_time_end   = np.abs(time_obs-time[-1]).argmin()\n",
    "\n",
    "    # NOTE TO SELF: this variable is currently unused...does Python de-allocate the memory upon exiting the function?\n",
    "    # The plus one ensures that the final value is included\n",
    "    time_obsRefined = time_obs[id_time_begin:id_time_end+1] \n",
    "    \n",
    "    # Determine the indexes for region of interest\n",
    "    idn = np.abs(lat-latn).argmin() # north\n",
    "    ids = np.abs(lat-lats).argmin() # south\n",
    "    \n",
    "    # Align the longitude data depending on format\n",
    "    if max(lon) > 190: # if data ranges from 0 - 360\n",
    "        idw = np.abs(lon - (360+lonw)).argmin()\n",
    "        ide = np.abs(lon - (360+lone)).argmin()\n",
    "    else:              # if data ranges from -180 - 180\n",
    "        idw = np.abs(lon-lonw).argmin()\n",
    "        ide = np.abs(lon-lone).argmin()\n",
    "\n",
    "    # Determine indexes for region of interest\n",
    "    idn_obs = np.abs(lat_obs-latn).argmin()\n",
    "    ids_obs = np.abs(lat_obs-lats).argmin()\n",
    "    idw_obs = np.abs(lon_obs-(360+lonw)).argmin()\n",
    "    ide_obs = np.abs(lon_obs-(360+lone)).argmin()\n",
    "    \n",
    "    # Obtain lat and lon values within the region of interest\n",
    "    lat_plt     = lat[ids:idn]\n",
    "    lon_plt     = lon[idw:ide] \n",
    "    lat_plt_obs = lat_obs[ids_obs:idn_obs] # Note that the latitude order ranges from south to north\n",
    "    lon_plt_obs = lon_obs[idw_obs:ide_obs]\n",
    "    \n",
    "    # Select the data that aligns the observation data with the hindcast data on a temporal scale\n",
    "    data_obsRefined = data_obs[id_time_begin:id_time_end+1][:]\n",
    "    \n",
    "    # Select the data in the user specified region of interest\n",
    "    data_aligned     = data[:,ids:idn,idw:ide]\n",
    "    data_aligned_obs = data_obsRefined[:,ids_obs:idn_obs,idw_obs:ide_obs]  # Note that the latitude order ranges from south to north\n",
    "    \n",
    "    return data_aligned, data_aligned_obs, lat_plt, lat_plt_obs, id_DayOfTheSeason"
   ]
  }
 ],
 "metadata": {
  "kernelspec": {
   "display_name": "Python 3",
   "language": "python",
   "name": "python3"
  },
  "language_info": {
   "codemirror_mode": {
    "name": "ipython",
    "version": 3
   },
   "file_extension": ".py",
   "mimetype": "text/x-python",
   "name": "python",
   "nbconvert_exporter": "python",
   "pygments_lexer": "ipython3",
   "version": "3.8.2"
  }
 },
 "nbformat": 4,
 "nbformat_minor": 4
}
