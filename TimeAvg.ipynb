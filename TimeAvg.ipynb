{
 "cells": [
  {
   "cell_type": "code",
   "execution_count": null,
   "metadata": {},
   "outputs": [],
   "source": [
    "import numpy as np\n",
    "import matplotlib.pyplot as plt\n",
    "from netCDF4 import Dataset # Network Common Data Form"
   ]
  },
  {
   "cell_type": "code",
   "execution_count": null,
   "metadata": {},
   "outputs": [],
   "source": [
    "def TimeAvg(precip,numDayAvg,id_DayOfTheSeason):\n",
    "    # Initialize the precip_tot to contain the total accumulation over several days\n",
    "    precip_tot = np.zeros(precip[id_DayOfTheSeason].shape)\n",
    "    \n",
    "    # Sum the precipitation over several days (specified by numDayAvg)\n",
    "    for ii in range(numDayAvg):\n",
    "        precip_tot = precip_tot + precip[id_DayOfTheSeason+ii]\n",
    "    \n",
    "    # Average the precip\n",
    "    precip_avg = precip_tot/numDayAvg\n",
    "    \n",
    "    return precip_avg"
   ]
  }
 ],
 "metadata": {
  "kernelspec": {
   "display_name": "Python 3",
   "language": "python",
   "name": "python3"
  },
  "language_info": {
   "codemirror_mode": {
    "name": "ipython",
    "version": 3
   },
   "file_extension": ".py",
   "mimetype": "text/x-python",
   "name": "python",
   "nbconvert_exporter": "python",
   "pygments_lexer": "ipython3",
   "version": "3.8.2"
  }
 },
 "nbformat": 4,
 "nbformat_minor": 4
}
