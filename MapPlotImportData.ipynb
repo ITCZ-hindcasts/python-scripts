{
 "cells": [
  {
   "cell_type": "code",
   "execution_count": 1,
   "metadata": {},
   "outputs": [],
   "source": [
    "import numpy as np\n",
    "import xarray as xr"
   ]
  },
  {
   "cell_type": "code",
   "execution_count": 2,
   "metadata": {},
   "outputs": [],
   "source": [
    "# # Experiment to open all datasets and place them immediately into one MEGA dataset.\n",
    "# # Objective is to write less code :)\n",
    "\n",
    "# varName = ['PRECT', 'VBOT', 'UBOT']\n",
    "# hcastDayStr = ['05', '10', '15', '20']\n",
    "# hcastDay = [5,10,15,20]\n",
    "# fn = 'tratl_cam5.3_ne30_rneale.globe.fcast.day'\n",
    "\n",
    "# _dataRaw = [[0,0,0],[0,0,0],[0,0,0],[0,0,0]] # 4 rows (hindcasts) and 3 columns (variables)\n",
    "\n",
    "# for ii, day in enumerate(hcastDayStr):\n",
    "#     for jj, _var in enumerate(varName):\n",
    "# #         print(dri+fn+day+'.'+name+'.nc')\n",
    "#         _dataRaw[ii][jj] = xr.open_dataset(dri+fn+day+'.'+_var+'.nc', decode_times=False)\n",
    "\n",
    "# dataRaw = xr.Dataset({'dataRaw':(['hcastDay', 'varName'], _dataRaw)}, \n",
    "#                      coords={'hcastDay':hcastDay, 'varName': varName})\n",
    "# dataRaw.sel(hcastDay=10,varName='VBOT')['dataRaw']"
   ]
  },
  {
   "cell_type": "code",
   "execution_count": 53,
   "metadata": {},
   "outputs": [],
   "source": [
    "## Import data\n",
    "\n",
    "## CAM Hindcast data will be imported into a list. Each index represents the number of hindcast day\n",
    "\n",
    "# Setup strings to be used to create the path to each file\n",
    "hcastDayStr = ['01','02','03','04','05','06','07','08','09','10','11','12','13','14','15','16','17','18','19','20']\n",
    "# hcastDayStr = ['05','10','15','20']\n",
    "fn = 'tratl_cam5.3_ne30_rneale.globe.fcast.day'\n",
    "dri = '/home/jlarson1/data/CAM_hindcasts/'\n",
    "\n",
    "# Initialize empty list that will contain all the specified hindcast days\n",
    "dataPRECT   = [None] * (len(hcastDayStr)+1)\n",
    "dataVBOT3hr = [None] * (len(hcastDayStr)+1)\n",
    "dataUBOT3hr = [None] * (len(hcastDayStr)+1)\n",
    "\n",
    "# Iterate through the string that dictates which hindcast days will be loaded\n",
    "for ii,day in enumerate(hcastDayStr):\n",
    "#     print(dri+fn+day+'.PRECT.nc')\n",
    "    dataPRECT[  ii+1] = xr.open_dataset(dri+fn+day+'.PRECT.nc', decode_times=False)\n",
    "    dataVBOT3hr[ii+1] = xr.open_dataset(dri+fn+day+'.VBOT.nc' , decode_times=False)\n",
    "    dataUBOT3hr[ii+1] = xr.open_dataset(dri+fn+day+'.UBOT.nc' , decode_times=False)\n",
    "    \n",
    "## Observation precipitation\n",
    "\n",
    "# driObs = '/lss/research/agon-lab/TMPA-daily/'\n",
    "driPRECTObs = '/home/jlarson1/data/'\n",
    "fnPRECTObs  = 'pr_daily_2009-2010.nc'\n",
    "dataPRECTObs = xr.open_dataset(driPRECTObs + fnPRECTObs, decode_times=False)\n",
    "\n",
    "## Observation surface winds\n",
    "\n",
    "# Note that these datasets were created specifically for this set of hindcasts. \n",
    "# For future reference, if a more generic dataset(s) is used, the code in the next few sections might be useful\n",
    "driWindObs = '/home/jlarson1/data/ERA5/'\n",
    "fnUBOTObs = 'u10m_2009-2010-partial_daily.nc' ; fnVBOTObs = 'v10m_2009-2010-partial_daily.nc'\n",
    "dataUBOTObs = xr.open_dataset(driWindObs + fnUBOTObs, decode_times=False)\n",
    "dataVBOTObs = xr.open_dataset(driWindObs + fnVBOTObs, decode_times=False)"
   ]
  },
  {
   "cell_type": "code",
   "execution_count": 4,
   "metadata": {},
   "outputs": [],
   "source": [
    "# # Select the obs data from the years of interest (2009 and 2010) that is more or less within the hindcast time bounds\n",
    "# # Concat together. All this is done to reduce the amount of data and speed the code\n",
    "\n",
    "# hcastTimeStart = 0   # days since 2009-09-01\n",
    "# _hcastTimeEnd   = 200 # days since 2009-09-01\n",
    "\n",
    "# # Adjust end time to fit format of obs data which ends with the decimal .75\n",
    "# hcastTimeEnd = _hcastTimeEnd - 0.25\n",
    "\n",
    "# # Select the data that is at the end of 2009 and beginning of 2010 along the time dimension\n",
    "# dataVBOTObs = xr.concat([dataVBOTObs2009.sel(time=slice((hcastTimeStart+40055)*24,None)),\n",
    "#                          dataVBOTObs2010.sel(time=slice((hcastTimeEnd+40055)*24))], dim='time')\n",
    "# dataUBOTObs = xr.concat([dataUBOTObs2009.sel(time=slice((hcastTimeStart+40055)*24,None)),\n",
    "#                          dataUBOTObs2010.sel(time=slice((hcastTimeEnd+40055)*24))], dim='time')"
   ]
  },
  {
   "cell_type": "code",
   "execution_count": 5,
   "metadata": {},
   "outputs": [],
   "source": [
    "# # # Time average the 6-hourly wind obs data to get daily wind data\n",
    "\n",
    "# # Create hindcast day dimension\n",
    "# hcastDay = [5, 10, 15, 20]\n",
    "\n",
    "# dataVBOTObsDaily = np.zeros(( len(dataVBOTObs['v10'])//4, len(dataVBOTObs['v10'][0]), len(dataVBOTObs['v10'][0][0]) ))\n",
    "# dataUBOTObsDaily = np.zeros(( len(dataUBOTObs['u10'])//4, len(dataUBOTObs['u10'][0]), len(dataUBOTObs['u10'][0][0]) ))\n",
    "# WindObsTime    = np.zeros(( len(dataVBOTObs['v10'])//4 ))\n",
    "\n",
    "# # Iterate for the number of time stamps in the 6hrly data. Count by 4\n",
    "# for ii in range (0, len(dataVBOTObs['v10']), 4):\n",
    "#     dataVBOTObsDaily[ii//4] = dataVBOTObs['v10' ][ii:ii+4].mean(axis=0)\n",
    "#     dataUBOTObsDaily[ii//4] = dataUBOTObs['u10' ][ii:ii+4].mean(axis=0)\n",
    "#     # Create new time stamps as \"days since 2009-09-01\"\n",
    "#     WindObsTime[ii//4]    = dataVBOTObs['time'][ii:ii+4].mean(axis=0)//24 - 40055"
   ]
  },
  {
   "cell_type": "code",
   "execution_count": 6,
   "metadata": {},
   "outputs": [],
   "source": [
    "# Time average the 3-hourly wind hindcast data to get daily wind data\n",
    "\n",
    "# Create an empty array to hold the daily averaged data\n",
    "vbot = np.zeros([len(hcastDayStr)+1, len(dataVBOT3hr[1]['time'])//8, len(dataVBOT3hr[1]['lat']), len(dataVBOT3hr[1]['lon'])])\n",
    "ubot = np.zeros([len(hcastDayStr)+1, len(dataUBOT3hr[1]['time'])//8, len(dataUBOT3hr[1]['lat']), len(dataUBOT3hr[1]['lon'])])\n",
    "\n",
    "# Iterate for the number of hindcast days\n",
    "for ii in range(1, len(vbot) ):\n",
    "\n",
    "    # Iterate for the number of time stamps in 3hrly data. Count by 8\n",
    "    for jj in range(0, len(dataVBOT3hr[1]['V']), 8):\n",
    "        # On the left, jj is divided by 8 so it increases by 1 (each day)\n",
    "        # On the right, 8 is added to jj to include all 8 daily data points in the mean\n",
    "        vbot[ii][jj//8] = dataVBOT3hr[ii]['V'][jj:jj+8].mean(dim='time').values\n",
    "        ubot[ii][jj//8] = dataUBOT3hr[ii]['U'][jj:jj+8].mean(dim='time').values\n",
    "        "
   ]
  },
  {
   "cell_type": "code",
   "execution_count": 23,
   "metadata": {},
   "outputs": [],
   "source": [
    "# Put the daily data back into a dataset. Use the daily prect time stamps \n",
    "# Initialize holding list\n",
    "dataVBOT = [None] * (len(hcastDayStr)+1)\n",
    "dataUBOT = [None] * (len(hcastDayStr)+1)\n",
    "# Loop through list and create datasets\n",
    "for ii in range(1, len(vbot) ):\n",
    "    dataVBOT[ii] = xr.Dataset({'v':(['time','lat','lon'], vbot[ii])}, \n",
    "                          coords={'time':dataPRECT[ii]['time'], 'lat':dataVBOT3hr[1]['lat'], 'lon':dataVBOT3hr[1]['lon']})\n",
    "    dataUBOT[ii] = xr.Dataset({'u':(['time','lat','lon'], ubot[ii])}, \n",
    "                          coords={'time':dataPRECT[ii]['time'], 'lat':dataVBOT3hr[1]['lat'], 'lon':dataVBOT3hr[1]['lon']})\n"
   ]
  },
  {
   "cell_type": "code",
   "execution_count": null,
   "metadata": {},
   "outputs": [],
   "source": []
  }
 ],
 "metadata": {
  "kernelspec": {
   "display_name": "Python 3",
   "language": "python",
   "name": "python3"
  },
  "language_info": {
   "codemirror_mode": {
    "name": "ipython",
    "version": 3
   },
   "file_extension": ".py",
   "mimetype": "text/x-python",
   "name": "python",
   "nbconvert_exporter": "python",
   "pygments_lexer": "ipython3",
   "version": "3.8.3"
  }
 },
 "nbformat": 4,
 "nbformat_minor": 4
}
