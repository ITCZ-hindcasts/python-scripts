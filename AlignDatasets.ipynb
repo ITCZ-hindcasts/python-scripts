{
 "cells": [
  {
   "cell_type": "code",
   "execution_count": 1,
   "metadata": {},
   "outputs": [],
   "source": [
    "import numpy as np\n",
    "import matplotlib.pyplot as plt\n",
    "from netCDF4 import Dataset # Network Common Data Form"
   ]
  },
  {
   "cell_type": "code",
   "execution_count": 2,
   "metadata": {},
   "outputs": [],
   "source": [
    "def AlignDatasets(time, lat, lon, precipDayXX, rootgrp_obs, userInputs):\n",
    "    \n",
    "    dayOfTheSeason = userInputs[0]  \n",
    "    lats           = userInputs[1]\n",
    "    latn           = userInputs[2]\n",
    "    lonw           = userInputs[3]\n",
    "    lone           = userInputs[4]\n",
    "    \n",
    "    time_obs_raw = rootgrp_obs.variables['time'][:]   # \"Days since 1900-01-01\" The number of days till Sept 1, 2009 is 40,085\n",
    "    lat_obs      = rootgrp_obs.variables['lat'][:]\n",
    "    lon_obs      = rootgrp_obs.variables['lon'][:]\n",
    "    \n",
    "    # Subtract 40,055 to give Oct 1 the same 'date' value in both time and time_obs\n",
    "    time_obs = time_obs_raw-40055\n",
    "\n",
    "    # Determine the index in the requested forecast for the desired day of the season \n",
    "    id_DayOfTheSeason = np.abs(time-dayOfTheSeason).argmin()\n",
    "\n",
    "    # Finds the index of the value (in the observation dataset) that is equal to the first element of the hindcast\n",
    "    id_time_begin = np.abs(time_obs-time[0]).argmin()\n",
    "    id_time_end   = np.abs(time_obs-time[-1]).argmin()\n",
    "\n",
    "    # The plus one ensures that the final value is included\n",
    "    time_obs_refined = time_obs[id_time_begin:id_time_end+1] \n",
    "    \n",
    "    # Determine the indexes for region of interest\n",
    "    idn = np.abs(lat-latn).argmin() # north\n",
    "    ids = np.abs(lat-lats).argmin() # south\n",
    "    \n",
    "    # Align the longitude data depending on format\n",
    "    if max(lon) > 190: # if data ranges from 0 - 360\n",
    "        idw = np.abs(lon-(360+lonw)).argmin()\n",
    "        ide = np.abs(lon-(360+lone)).argmin()\n",
    "    else:              # if data ranges from -180 - 180\n",
    "        idw = np.abs(lon-lonw).argmin()\n",
    "        ide = np.abs(lon-lone).argmin()\n",
    "\n",
    "    # Determine indexes for region of interest\n",
    "    idn_obs = np.abs(lat_obs-latn).argmin()\n",
    "    ids_obs = np.abs(lat_obs-lats).argmin()\n",
    "    idw_obs = np.abs(lon_obs-lonw).argmin()\n",
    "    ide_obs = np.abs(lon_obs-lone).argmin()\n",
    "\n",
    "    # Obtain lat and lon values within the region of interest\n",
    "    lat_plt     = lat[ids:idn] \n",
    "    lat_plt_obs = lat_obs[ids_obs:idn_obs]\n",
    "    lon_plt     = lon[idw:ide]\n",
    "    lon_plt_obs = lon_obs[idw_obs:ide_obs]\n",
    "    \n",
    "    # Select the precipitation data that aligns the observation data with the hindcast\n",
    "    # data on a temporal scale\n",
    "    precip_obs_refined = rootgrp_obs.variables['pr'][id_time_begin:id_time_end+1][:]\n",
    "    \n",
    "    # Select the precipitation data in the user specified region of interest\n",
    "    precip_aligned     = precipDayXX[:,ids:idn,idw:ide]\n",
    "    precip_aligned_obs = precip_obs_refined[:,ids_obs:idn_obs,idw_obs:ide_obs]\n",
    "    \n",
    "    return precip_aligned, precip_aligned_obs, lat_plt, lat_plt_obs, id_DayOfTheSeason"
   ]
  }
 ],
 "metadata": {
  "kernelspec": {
   "display_name": "Python 3",
   "language": "python",
   "name": "python3"
  },
  "language_info": {
   "codemirror_mode": {
    "name": "ipython",
    "version": 3
   },
   "file_extension": ".py",
   "mimetype": "text/x-python",
   "name": "python",
   "nbconvert_exporter": "python",
   "pygments_lexer": "ipython3",
   "version": "3.8.2"
  }
 },
 "nbformat": 4,
 "nbformat_minor": 4
}
